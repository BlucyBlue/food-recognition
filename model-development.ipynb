{
 "cells": [
  {
   "cell_type": "code",
   "execution_count": 1,
   "metadata": {
    "collapsed": true
   },
   "outputs": [
    {
     "name": "stdout",
     "output_type": "stream",
     "text": [
      "Collecting kaggle\r\n",
      "  Downloading kaggle-1.6.3.tar.gz (84 kB)\r\n",
      "\u001B[2K     \u001B[90m━━━━━━━━━━━━━━━━━━━━━━━━━━━━━━━━━━━━━━━\u001B[0m \u001B[32m84.5/84.5 kB\u001B[0m \u001B[31m678.8 kB/s\u001B[0m eta \u001B[36m0:00:00\u001B[0ma \u001B[36m0:00:01\u001B[0m\r\n",
      "\u001B[?25h  Preparing metadata (setup.py) ... \u001B[?25ldone\r\n",
      "\u001B[?25hRequirement already satisfied: six>=1.10 in /Users/rastkopavlovic/miniconda3/lib/python3.11/site-packages (from kaggle) (1.16.0)\r\n",
      "Requirement already satisfied: certifi in /Users/rastkopavlovic/miniconda3/lib/python3.11/site-packages (from kaggle) (2023.7.22)\r\n",
      "Requirement already satisfied: python-dateutil in /Users/rastkopavlovic/miniconda3/lib/python3.11/site-packages (from kaggle) (2.8.2)\r\n",
      "Requirement already satisfied: requests in /Users/rastkopavlovic/miniconda3/lib/python3.11/site-packages (from kaggle) (2.31.0)\r\n",
      "Requirement already satisfied: tqdm in /Users/rastkopavlovic/miniconda3/lib/python3.11/site-packages (from kaggle) (4.65.0)\r\n",
      "Collecting python-slugify (from kaggle)\r\n",
      "  Using cached python_slugify-8.0.1-py2.py3-none-any.whl (9.7 kB)\r\n",
      "Requirement already satisfied: urllib3 in /Users/rastkopavlovic/miniconda3/lib/python3.11/site-packages (from kaggle) (1.26.16)\r\n",
      "Requirement already satisfied: bleach in /Users/rastkopavlovic/miniconda3/lib/python3.11/site-packages (from kaggle) (4.1.0)\r\n",
      "Requirement already satisfied: packaging in /Users/rastkopavlovic/miniconda3/lib/python3.11/site-packages (from bleach->kaggle) (23.0)\r\n",
      "Requirement already satisfied: webencodings in /Users/rastkopavlovic/miniconda3/lib/python3.11/site-packages (from bleach->kaggle) (0.5.1)\r\n",
      "Collecting text-unidecode>=1.3 (from python-slugify->kaggle)\r\n",
      "  Using cached text_unidecode-1.3-py2.py3-none-any.whl (78 kB)\r\n",
      "Requirement already satisfied: charset-normalizer<4,>=2 in /Users/rastkopavlovic/miniconda3/lib/python3.11/site-packages (from requests->kaggle) (2.0.4)\r\n",
      "Requirement already satisfied: idna<4,>=2.5 in /Users/rastkopavlovic/miniconda3/lib/python3.11/site-packages (from requests->kaggle) (3.4)\r\n",
      "Building wheels for collected packages: kaggle\r\n",
      "  Building wheel for kaggle (setup.py) ... \u001B[?25ldone\r\n",
      "\u001B[?25h  Created wheel for kaggle: filename=kaggle-1.6.3-py3-none-any.whl size=111919 sha256=8eb2d50cfb1f103b019ac1f6e637f34e1995fee84f37e2ae0d297f3b019b60c6\r\n",
      "  Stored in directory: /Users/rastkopavlovic/Library/Caches/pip/wheels/c5/94/5b/08d5bb9b7b78401fa26da264ef32d72bfbd9cb74641c65169b\r\n",
      "Successfully built kaggle\r\n",
      "Installing collected packages: text-unidecode, python-slugify, kaggle\r\n",
      "Successfully installed kaggle-1.6.3 python-slugify-8.0.1 text-unidecode-1.3\r\n"
     ]
    }
   ],
   "source": [
    "!pip install kaggle"
   ]
  },
  {
   "cell_type": "code",
   "execution_count": null,
   "outputs": [],
   "source": [
    "# For Google Colab only\n",
    "from google.colab import files\n",
    "files.upload()  # Upload kaggle.json here"
   ],
   "metadata": {
    "collapsed": false,
    "pycharm": {
     "name": "#%%\n"
    }
   }
  },
  {
   "cell_type": "code",
   "execution_count": null,
   "outputs": [],
   "source": [
    "# Data retrieval\n",
    "\n",
    "!mkdir -p ~/.kaggle\n",
    "!cp kaggle.json ~/.kaggle/\n",
    "!chmod 600 ~/.kaggle/kaggle.json\n",
    "!kaggle datasets download -d trolukovich/food11-image-dataset\n",
    "!unzip -q food11-image-dataset.zip -d dataset"
   ],
   "metadata": {
    "collapsed": false,
    "pycharm": {
     "name": "#%%\n"
    }
   }
  },
  {
   "cell_type": "code",
   "execution_count": null,
   "outputs": [],
   "source": [
    "import os\n",
    "import matplotlib.pyplot as plt\n",
    "import seaborn as sns\n",
    "from PIL import Image"
   ],
   "metadata": {
    "collapsed": false,
    "pycharm": {
     "name": "#%%\n"
    }
   }
  },
  {
   "cell_type": "code",
   "execution_count": null,
   "outputs": [],
   "source": [
    "def show_images(images, titles=None, ncols=3):\n",
    "    n = len(images)\n",
    "    nrows = n // ncols + (1 if n % ncols else 0)\n",
    "    fig, axs = plt.subplots(nrows, ncols, figsize=(15, 5 * nrows))\n",
    "    axs = axs.flatten()\n",
    "    for i, img_path in enumerate(images):\n",
    "        img = Image.open(img_path)\n",
    "        axs[i].imshow(img)\n",
    "        axs[i].axis('off')\n",
    "        if titles:\n",
    "            axs[i].set_title(titles[i])\n",
    "    plt.tight_layout()\n",
    "    plt.show()\n",
    "\n",
    "# Show first few images from a specific food category\n",
    "food_category = 'dataset/training/0'  # Change as needed\n",
    "image_files = [os.path.join(food_category, f) for f in os.listdir(food_category)[:9]]\n",
    "show_images(image_files)"
   ],
   "metadata": {
    "collapsed": false,
    "pycharm": {
     "name": "#%%\n"
    }
   }
  },
  {
   "cell_type": "code",
   "source": [
    "# Analyzing dataset distribution.\n",
    "\n",
    "categories = os.listdir('dataset/training')\n",
    "counts = [len(os.listdir(os.path.join('dataset/training', c))) for c in categories]\n",
    "\n",
    "sns.barplot(x=categories, y=counts)\n",
    "plt.xlabel('Food Categories')\n",
    "plt.ylabel('Number of Images')\n",
    "plt.title('Distribution of Food Categories in Training Set')\n",
    "plt.xticks(rotation=45)\n",
    "plt.show()\n"
   ],
   "metadata": {
    "collapsed": false,
    "pycharm": {
     "name": "#%%\n"
    }
   },
   "execution_count": null,
   "outputs": []
  }
 ],
 "metadata": {
  "kernelspec": {
   "display_name": "Python 3",
   "language": "python",
   "name": "python3"
  },
  "language_info": {
   "codemirror_mode": {
    "name": "ipython",
    "version": 2
   },
   "file_extension": ".py",
   "mimetype": "text/x-python",
   "name": "python",
   "nbconvert_exporter": "python",
   "pygments_lexer": "ipython2",
   "version": "2.7.6"
  }
 },
 "nbformat": 4,
 "nbformat_minor": 0
}